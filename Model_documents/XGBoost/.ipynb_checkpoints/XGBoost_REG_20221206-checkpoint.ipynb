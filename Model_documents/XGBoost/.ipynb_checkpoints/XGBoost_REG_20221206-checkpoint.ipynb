{
 "cells": [
  {
   "cell_type": "code",
   "execution_count": null,
   "id": "08d199bd-8203-45f6-9e67-f939484ca597",
   "metadata": {},
   "outputs": [],
   "source": [
    "# !conda install -c conda-forge py-xgboost"
   ]
  },
  {
   "cell_type": "code",
   "execution_count": 1,
   "id": "0bd5964f",
   "metadata": {},
   "outputs": [],
   "source": [
    "import xgboost as xgb\n",
    "from sklearn.metrics import mean_squared_error\n",
    "import pandas as pd\n",
    "import numpy as np"
   ]
  },
  {
   "cell_type": "code",
   "execution_count": 29,
   "id": "3236289b",
   "metadata": {},
   "outputs": [
    {
     "name": "stdout",
     "output_type": "stream",
     "text": [
      "No of Columns:  5\n",
      "[[ 43 207   4   2]\n",
      " [ 31 240   2   2]\n",
      " [ 35 235   4   3]\n",
      " [ 49 253   5   3]\n",
      " [ 49 125   5   2]\n",
      " [ 31 299   5   3]\n",
      " [ 29 202   3   2]\n",
      " [ 49 275   5   3]\n",
      " [ 36 118   5   1]\n",
      " [ 38 197   3   3]\n",
      " [ 20 105   3   1]\n",
      " [ 49 118   5   1]\n",
      " [ 22 184   2   2]\n",
      " [ 50 214   3   2]\n",
      " [ 37 259   3   2]\n",
      " [ 34 234   2   3]\n",
      " [ 38 149   5   2]\n",
      " [ 40 277   3   1]\n",
      " [ 33 297   1   2]\n",
      " [ 23 144   2   1]\n",
      " [ 43 268   1   2]\n",
      " [ 24 126   2   3]\n",
      " [ 34 163   5   2]\n",
      " [ 49 173   1   3]\n",
      " [ 32 101   3   3]\n",
      " [ 49 113   5   3]\n",
      " [ 35 272   3   3]\n",
      " [ 28 250   1   2]\n",
      " [ 33 108   5   3]\n",
      " [ 34 151   4   1]\n",
      " [ 35 151   3   3]\n",
      " [ 35 184   3   3]\n",
      " [ 31 109   5   3]\n",
      " [ 26 239   3   1]\n",
      " [ 45 217   4   1]\n",
      " [ 45 269   5   3]\n",
      " [ 29 279   2   1]\n",
      " [ 22 193   3   2]\n",
      " [ 35 114   3   2]\n",
      " [ 41 168   4   3]\n",
      " [ 35 234   3   2]\n",
      " [ 23 157   3   2]\n",
      " [ 35 120   3   1]\n",
      " [ 46 281   4   1]\n",
      " [ 34 236   5   2]\n",
      " [ 45 205   2   1]\n",
      " [ 25 100   5   1]\n",
      " [ 43 153   4   1]\n",
      " [ 29 107   1   1]\n",
      " [ 48 224   1   2]\n",
      " [ 50 112   2   1]\n",
      " [ 41 284   5   2]\n",
      " [ 22 206   4   3]\n",
      " [ 20 268   5   1]\n",
      " [ 23 165   2   2]\n",
      " [ 39 174   1   3]\n",
      " [ 47 128   3   1]\n",
      " [ 29 143   4   2]\n",
      " [ 40 183   3   1]\n",
      " [ 45 148   1   2]\n",
      " [ 30 150   1   2]\n",
      " [ 42 247   2   2]\n",
      " [ 22 168   3   2]\n",
      " [ 21 280   4   3]\n",
      " [ 33 101   4   1]\n",
      " [ 25 134   1   3]\n",
      " [ 48 262   4   3]\n",
      " [ 23 160   2   2]\n",
      " [ 39 107   5   2]\n",
      " [ 44 143   4   3]\n",
      " [ 44 212   5   1]\n",
      " [ 32 267   3   1]\n",
      " [ 44 262   1   1]\n",
      " [ 31 285   2   2]\n",
      " [ 27 155   1   2]\n",
      " [ 22 130   5   2]\n",
      " [ 39 152   3   3]\n",
      " [ 41 260   4   3]\n",
      " [ 21 219   3   2]\n",
      " [ 40 129   1   2]\n",
      " [ 42 216   3   2]\n",
      " [ 49 257   4   2]\n",
      " [ 29 113   5   3]\n",
      " [ 48 215   2   1]\n",
      " [ 28 147   4   1]\n",
      " [ 26 228   3   2]\n",
      " [ 22 114   5   1]\n",
      " [ 40 267   1   1]\n",
      " [ 23 129   3   3]\n",
      " [ 29 198   3   1]\n",
      " [ 34 181   5   3]\n",
      " [ 37 149   4   3]\n",
      " [ 36 294   1   1]\n",
      " [ 45 178   3   3]\n",
      " [ 30 246   1   3]\n",
      " [ 20 281   1   3]\n",
      " [ 33 235   1   2]]\n",
      "==========\n",
      "[22937 19067 29304 45494 28433 46575 28421 35346 20014 18878 27526 22097\n",
      " 44631 15174 24059 13998 21688 12735 46327 10400 45179 10701 23652 28426\n",
      " 36921 46266 28670 22324 23062 41858 18976 30625 44260 10366 16258 30253\n",
      " 48513 11775 22574 42253 26653 30513 13896 21940 27200 30486 31449 26147\n",
      " 32462 22489 43903 15118 39689 26277 47929 32381 14715 30330 17548 31943\n",
      " 12085 35654 38983 41175 33303 37837 43836 39020 18741 38511 10831 30954\n",
      " 29733 15197 42649 20928 49405 24794 12060 20117 23309 11357 38094 45342\n",
      " 46442 35023 43140 31013 13982 32012 12878 21675 28745 19702 10206 16753\n",
      " 24294]\n"
     ]
    }
   ],
   "source": [
    "workDir = '/Users/tong/Documents/99_qqq/99_Grid_search'#\"G:\\\\TEMP\\\\RadfreRegsor\"\n",
    "iptFileName = 'ptestdata6_rgs.csv'#\"G:\\\\TEMP\\\\RadfreRegsor\\\\ptestdata6_rgs.csv\"\n",
    "\n",
    "iptFpd = pd.read_csv(iptFileName)\n",
    "dfColmName = iptFpd.columns\n",
    "lenCol = len(iptFpd.columns)\n",
    "\n",
    "dataNp = iptFpd.loc[:,dfColmName[0]:dfColmName[lenCol-2]].to_numpy()\n",
    "dataTarget = iptFpd.loc[:,dfColmName[lenCol-1]].to_numpy()\n",
    "print(\"No of Columns: \", lenCol)\n",
    "X = dataNp\n",
    "Y = dataTarget\n",
    "\n",
    "print(X)\n",
    "print(\"==========\")\n",
    "print(Y)"
   ]
  },
  {
   "cell_type": "code",
   "execution_count": 25,
   "id": "d0378747",
   "metadata": {},
   "outputs": [],
   "source": [
    "from sklearn.model_selection import train_test_split\n",
    "\n",
    "X_train, X_test, y_train, y_test = train_test_split(X, Y, test_size=0.4, random_state=123)"
   ]
  },
  {
   "cell_type": "code",
   "execution_count": 26,
   "id": "9f7e55f3",
   "metadata": {},
   "outputs": [],
   "source": [
    "xg_reg = xgb.XGBRegressor(objective ='reg:linear', colsample_bytree = 0.3, learning_rate = 0.1,\n",
    "                max_depth = 5, alpha = 10, n_estimators = 10)\n",
    "\n",
    "#alpha: "
   ]
  },
  {
   "cell_type": "code",
   "execution_count": 27,
   "id": "05bf2815",
   "metadata": {
    "scrolled": true
   },
   "outputs": [
    {
     "name": "stdout",
     "output_type": "stream",
     "text": [
      "[11:16:55] WARNING: /Users/runner/miniforge3/conda-bld/xgboost-split_1679035139432/work/src/objective/regression_obj.cu:213: reg:linear is now deprecated in favor of reg:squarederror.\n",
      "[19973.06  20196.277 17252.422 18180.658 17252.422 19973.06  18528.797\n",
      " 15793.705 18374.516 17868.637 17868.637 18919.904 17868.637 20265.213\n",
      " 17475.639 16815.479 16451.457 15308.855 17475.639 19973.06  18528.797\n",
      " 18528.797 19536.117 16289.958 18482.96  18919.904 18482.96  17937.572\n",
      " 18305.58  20196.277 18528.797 19536.117 18305.58  17868.637 17475.639\n",
      " 16815.479 20196.277 17475.639 18528.797]\n"
     ]
    }
   ],
   "source": [
    "xg_reg.fit(X_train,y_train)\n",
    "\n",
    "preds = xg_reg.predict(X_test)\n",
    "\n",
    "print(preds)"
   ]
  },
  {
   "cell_type": "code",
   "execution_count": 9,
   "id": "5de1d011",
   "metadata": {},
   "outputs": [
    {
     "name": "stdout",
     "output_type": "stream",
     "text": [
      "RMSE: 16009.826127\n"
     ]
    }
   ],
   "source": [
    "rmse = np.sqrt(mean_squared_error(y_test, preds))\n",
    "print(\"RMSE: %f\" % (rmse))"
   ]
  },
  {
   "cell_type": "code",
   "execution_count": 11,
   "id": "f28130af",
   "metadata": {},
   "outputs": [],
   "source": [
    "from xgboost import plot_importance\n",
    "from matplotlib import pyplot as plt"
   ]
  },
  {
   "cell_type": "code",
   "execution_count": 12,
   "id": "a577b670",
   "metadata": {
    "scrolled": true
   },
   "outputs": [
    {
     "data": {
      "image/png": "[encoded data removed]",
      "text/plain": [
       "<Figure size 640x480 with 1 Axes>"
      ]
     },
     "metadata": {},
     "output_type": "display_data"
    }
   ],
   "source": [
    "plot_importance(xg_reg)\n",
    "plt.show() "
   ]
  },
  {
   "cell_type": "code",
   "execution_count": 31,
   "id": "849eda0a",
   "metadata": {},
   "outputs": [
    {
     "data": {
      "text/plain": [
       "array([0.28040764, 0.        , 0.24775004, 0.47184232], dtype=float32)"
      ]
     },
     "execution_count": 31,
     "metadata": {},
     "output_type": "execute_result"
    }
   ],
   "source": [
    "xg_reg.feature_importances_"
   ]
  },
  {
   "cell_type": "markdown",
   "id": "fda76da0",
   "metadata": {},
   "source": [
    "https://mljar.com/blog/feature-importance-xgboost/"
   ]
  },
  {
   "cell_type": "code",
   "execution_count": null,
   "id": "3dc055d1",
   "metadata": {},
   "outputs": [],
   "source": []
  },
  {
   "cell_type": "code",
   "execution_count": 28,
   "id": "f75f5d04",
   "metadata": {},
   "outputs": [
    {
     "name": "stdout",
     "output_type": "stream",
     "text": [
      "[18528.797]\n"
     ]
    }
   ],
   "source": [
    "X_test2 = [[33, 235,   1,   2]]\n",
    "\n",
    "preds = xg_reg.predict(X_test2)\n",
    "\n",
    "print(preds)"
   ]
  },
  {
   "cell_type": "code",
   "execution_count": 30,
   "id": "87c7b10d",
   "metadata": {},
   "outputs": [
    {
     "name": "stdout",
     "output_type": "stream",
     "text": [
      "[17475.639]\n"
     ]
    }
   ],
   "source": [
    "X_test2 = [[36, 294,   1,   1]]\n",
    "\n",
    "preds = xg_reg.predict(X_test2)\n",
    "\n",
    "print(preds)"
   ]
  },
  {
   "cell_type": "code",
   "execution_count": null,
   "id": "cd1a5f68",
   "metadata": {},
   "outputs": [],
   "source": []
  },
  {
   "cell_type": "code",
   "execution_count": 16,
   "id": "9e359072",
   "metadata": {},
   "outputs": [],
   "source": [
    "xg_reg = xgb.XGBRegressor(objective ='reg:linear', colsample_bytree = 0.3, learning_rate = 0.1,\n",
    "                max_depth = 5, n_estimators = 10)"
   ]
  },
  {
   "cell_type": "code",
   "execution_count": 32,
   "id": "0732d5f2",
   "metadata": {},
   "outputs": [
    {
     "name": "stdout",
     "output_type": "stream",
     "text": [
      "[11:22:26] WARNING: /Users/runner/miniforge3/conda-bld/xgboost-split_1679035139432/work/src/objective/regression_obj.cu:213: reg:linear is now deprecated in favor of reg:squarederror.\n",
      "[19973.06  20196.277 17252.422 18180.658 17252.422 19973.06  18528.797\n",
      " 15793.705 18374.516 17868.637 17868.637 18919.904 17868.637 20265.213\n",
      " 17475.639 16815.479 16451.457 15308.855 17475.639 19973.06  18528.797\n",
      " 18528.797 19536.117 16289.958 18482.96  18919.904 18482.96  17937.572\n",
      " 18305.58  20196.277 18528.797 19536.117 18305.58  17868.637 17475.639\n",
      " 16815.479 20196.277 17475.639 18528.797]\n"
     ]
    }
   ],
   "source": [
    "xg_reg.fit(X_train,y_train)\n",
    "\n",
    "preds = xg_reg.predict(X_test)\n",
    "\n",
    "print(preds)"
   ]
  },
  {
   "cell_type": "code",
   "execution_count": 33,
   "id": "d4609df2",
   "metadata": {},
   "outputs": [
    {
     "name": "stdout",
     "output_type": "stream",
     "text": [
      "[18528.797]\n"
     ]
    }
   ],
   "source": [
    "X_test2 = [[33, 235,   1,   2]]\n",
    "\n",
    "preds = xg_reg.predict(X_test2)\n",
    "\n",
    "print(preds)"
   ]
  },
  {
   "cell_type": "code",
   "execution_count": 34,
   "id": "7a4926d1",
   "metadata": {},
   "outputs": [
    {
     "name": "stdout",
     "output_type": "stream",
     "text": [
      "[17475.639]\n"
     ]
    }
   ],
   "source": [
    "X_test2 = [[36, 294,   1,   1]]\n",
    "\n",
    "preds = xg_reg.predict(X_test2)\n",
    "\n",
    "print(preds)"
   ]
  },
  {
   "cell_type": "code",
   "execution_count": null,
   "id": "4605c913",
   "metadata": {},
   "outputs": [],
   "source": []
  },
  {
   "cell_type": "code",
   "execution_count": 35,
   "id": "99f7d1cb",
   "metadata": {},
   "outputs": [
    {
     "name": "stdout",
     "output_type": "stream",
     "text": [
      "[11:22:35] WARNING: /Users/runner/miniforge3/conda-bld/xgboost-split_1679035139432/work/src/objective/regression_obj.cu:213: reg:linear is now deprecated in favor of reg:squarederror.\n",
      "[18528.797]\n",
      "[17475.639]\n"
     ]
    }
   ],
   "source": [
    "xg_reg = xgb.XGBRegressor(objective ='reg:linear', colsample_bytree = 0.4, learning_rate = 0.1,\n",
    "                max_depth = 5, reg_alpha=10, n_estimators = 10)\n",
    "xg_reg.fit(X_train,y_train)\n",
    "\n",
    "X_test2 = [[33, 235,   1,   2]]\n",
    "\n",
    "preds = xg_reg.predict(X_test2)\n",
    "\n",
    "print(preds)\n",
    "\n",
    "X_test2 = [[36, 294,   1,   1]]\n",
    "\n",
    "preds = xg_reg.predict(X_test2)\n",
    "\n",
    "print(preds)"
   ]
  },
  {
   "cell_type": "code",
   "execution_count": null,
   "id": "78f4d62e",
   "metadata": {},
   "outputs": [],
   "source": []
  },
  {
   "cell_type": "code",
   "execution_count": null,
   "id": "8553ecff",
   "metadata": {},
   "outputs": [],
   "source": []
  },
  {
   "cell_type": "code",
   "execution_count": null,
   "id": "23eeb31f",
   "metadata": {},
   "outputs": [],
   "source": []
  },
  {
   "cell_type": "code",
   "execution_count": 21,
   "id": "9ac5c136",
   "metadata": {},
   "outputs": [
    {
     "name": "stdout",
     "output_type": "stream",
     "text": [
      "[11:15:01] WARNING: /Users/runner/miniforge3/conda-bld/xgboost-split_1679035139432/work/src/objective/regression_obj.cu:213: reg:linear is now deprecated in favor of reg:squarederror.\n"
     ]
    },
    {
     "data": {
      "text/html": [
       "<style>#sk-container-id-1 {color: black;background-color: white;}#sk-container-id-1 pre{padding: 0;}#sk-container-id-1 div.sk-toggleable {background-color: white;}#sk-container-id-1 label.sk-toggleable__label {cursor: pointer;display: block;width: 100%;margin-bottom: 0;padding: 0.3em;box-sizing: border-box;text-align: center;}#sk-container-id-1 label.sk-toggleable__label-arrow:before {content: \"▸\";float: left;margin-right: 0.25em;color: #696969;}#sk-container-id-1 label.sk-toggleable__label-arrow:hover:before {color: black;}#sk-container-id-1 div.sk-estimator:hover label.sk-toggleable__label-arrow:before {color: black;}#sk-container-id-1 div.sk-toggleable__content {max-height: 0;max-width: 0;overflow: hidden;text-align: left;background-color: #f0f8ff;}#sk-container-id-1 div.sk-toggleable__content pre {margin: 0.2em;color: black;border-radius: 0.25em;background-color: #f0f8ff;}#sk-container-id-1 input.sk-toggleable__control:checked~div.sk-toggleable__content {max-height: 200px;max-width: 100%;overflow: auto;}#sk-container-id-1 input.sk-toggleable__control:checked~label.sk-toggleable__label-arrow:before {content: \"▾\";}#sk-container-id-1 div.sk-estimator input.sk-toggleable__control:checked~label.sk-toggleable__label {background-color: #d4ebff;}#sk-container-id-1 div.sk-label input.sk-toggleable__control:checked~label.sk-toggleable__label {background-color: #d4ebff;}#sk-container-id-1 input.sk-hidden--visually {border: 0;clip: rect(1px 1px 1px 1px);clip: rect(1px, 1px, 1px, 1px);height: 1px;margin: -1px;overflow: hidden;padding: 0;position: absolute;width: 1px;}#sk-container-id-1 div.sk-estimator {font-family: monospace;background-color: #f0f8ff;border: 1px dotted black;border-radius: 0.25em;box-sizing: border-box;margin-bottom: 0.5em;}#sk-container-id-1 div.sk-estimator:hover {background-color: #d4ebff;}#sk-container-id-1 div.sk-parallel-item::after {content: \"\";width: 100%;border-bottom: 1px solid gray;flex-grow: 1;}#sk-container-id-1 div.sk-label:hover label.sk-toggleable__label {background-color: #d4ebff;}#sk-container-id-1 div.sk-serial::before {content: \"\";position: absolute;border-left: 1px solid gray;box-sizing: border-box;top: 0;bottom: 0;left: 50%;z-index: 0;}#sk-container-id-1 div.sk-serial {display: flex;flex-direction: column;align-items: center;background-color: white;padding-right: 0.2em;padding-left: 0.2em;position: relative;}#sk-container-id-1 div.sk-item {position: relative;z-index: 1;}#sk-container-id-1 div.sk-parallel {display: flex;align-items: stretch;justify-content: center;background-color: white;position: relative;}#sk-container-id-1 div.sk-item::before, #sk-container-id-1 div.sk-parallel-item::before {content: \"\";position: absolute;border-left: 1px solid gray;box-sizing: border-box;top: 0;bottom: 0;left: 50%;z-index: -1;}#sk-container-id-1 div.sk-parallel-item {display: flex;flex-direction: column;z-index: 1;position: relative;background-color: white;}#sk-container-id-1 div.sk-parallel-item:first-child::after {align-self: flex-end;width: 50%;}#sk-container-id-1 div.sk-parallel-item:last-child::after {align-self: flex-start;width: 50%;}#sk-container-id-1 div.sk-parallel-item:only-child::after {width: 0;}#sk-container-id-1 div.sk-dashed-wrapped {border: 1px dashed gray;margin: 0 0.4em 0.5em 0.4em;box-sizing: border-box;padding-bottom: 0.4em;background-color: white;}#sk-container-id-1 div.sk-label label {font-family: monospace;font-weight: bold;display: inline-block;line-height: 1.2em;}#sk-container-id-1 div.sk-label-container {text-align: center;}#sk-container-id-1 div.sk-container {/* jupyter's `normalize.less` sets `[hidden] { display: none; }` but bootstrap.min.css set `[hidden] { display: none !important; }` so we also need the `!important` here to be able to override the default hidden behavior on the sphinx rendered scikit-learn.org. See: https://github.com/scikit-learn/scikit-learn/issues/21755 */display: inline-block !important;position: relative;}#sk-container-id-1 div.sk-text-repr-fallback {display: none;}</style><div id=\"sk-container-id-1\" class=\"sk-top-container\"><div class=\"sk-text-repr-fallback\"><pre>XGBRegressor(base_score=None, booster=None, callbacks=None,\n",
       "             colsample_bylevel=None, colsample_bynode=None,\n",
       "             colsample_bytree=None, early_stopping_rounds=None,\n",
       "             enable_categorical=False, eval_metric=None, feature_types=None,\n",
       "             gamma=None, gpu_id=None, grow_policy=None, importance_type=None,\n",
       "             interaction_constraints=None, learning_rate=0.1, max_bin=None,\n",
       "             max_cat_threshold=None, max_cat_to_onehot=None,\n",
       "             max_delta_step=None, max_depth=10, max_leaves=None,\n",
       "             min_child_weight=None, missing=nan, monotone_constraints=None,\n",
       "             n_estimators=10, n_jobs=None, num_parallel_tree=None,\n",
       "             objective=&#x27;reg:linear&#x27;, predictor=None, ...)</pre><b>In a Jupyter environment, please rerun this cell to show the HTML representation or trust the notebook. <br />On GitHub, the HTML representation is unable to render, please try loading this page with nbviewer.org.</b></div><div class=\"sk-container\" hidden><div class=\"sk-item\"><div class=\"sk-estimator sk-toggleable\"><input class=\"sk-toggleable__control sk-hidden--visually\" id=\"sk-estimator-id-1\" type=\"checkbox\" checked><label for=\"sk-estimator-id-1\" class=\"sk-toggleable__label sk-toggleable__label-arrow\">XGBRegressor</label><div class=\"sk-toggleable__content\"><pre>XGBRegressor(base_score=None, booster=None, callbacks=None,\n",
       "             colsample_bylevel=None, colsample_bynode=None,\n",
       "             colsample_bytree=None, early_stopping_rounds=None,\n",
       "             enable_categorical=False, eval_metric=None, feature_types=None,\n",
       "             gamma=None, gpu_id=None, grow_policy=None, importance_type=None,\n",
       "             interaction_constraints=None, learning_rate=0.1, max_bin=None,\n",
       "             max_cat_threshold=None, max_cat_to_onehot=None,\n",
       "             max_delta_step=None, max_depth=10, max_leaves=None,\n",
       "             min_child_weight=None, missing=nan, monotone_constraints=None,\n",
       "             n_estimators=10, n_jobs=None, num_parallel_tree=None,\n",
       "             objective=&#x27;reg:linear&#x27;, predictor=None, ...)</pre></div></div></div></div></div>"
      ],
      "text/plain": [
       "XGBRegressor(base_score=None, booster=None, callbacks=None,\n",
       "             colsample_bylevel=None, colsample_bynode=None,\n",
       "             colsample_bytree=None, early_stopping_rounds=None,\n",
       "             enable_categorical=False, eval_metric=None, feature_types=None,\n",
       "             gamma=None, gpu_id=None, grow_policy=None, importance_type=None,\n",
       "             interaction_constraints=None, learning_rate=0.1, max_bin=None,\n",
       "             max_cat_threshold=None, max_cat_to_onehot=None,\n",
       "             max_delta_step=None, max_depth=10, max_leaves=None,\n",
       "             min_child_weight=None, missing=nan, monotone_constraints=None,\n",
       "             n_estimators=10, n_jobs=None, num_parallel_tree=None,\n",
       "             objective='reg:linear', predictor=None, ...)"
      ]
     },
     "execution_count": 21,
     "metadata": {},
     "output_type": "execute_result"
    }
   ],
   "source": [
    "xg_reg = xgb.XGBRegressor(objective ='reg:linear', learning_rate = 0.1,\n",
    "                max_depth = 10, n_estimators = 10)\n",
    "\n",
    "xg_reg.fit(X_train,y_train)"
   ]
  },
  {
   "cell_type": "code",
   "execution_count": 22,
   "id": "1553318c",
   "metadata": {},
   "outputs": [
    {
     "name": "stdout",
     "output_type": "stream",
     "text": [
      "[17649.107]\n"
     ]
    }
   ],
   "source": [
    "X_test2 = [[33, 235,   1,   2]]\n",
    "\n",
    "preds = xg_reg.predict(X_test2)\n",
    "\n",
    "print(preds)"
   ]
  },
  {
   "cell_type": "code",
   "execution_count": 23,
   "id": "e1b38966",
   "metadata": {},
   "outputs": [
    {
     "name": "stdout",
     "output_type": "stream",
     "text": [
      "[19174.508]\n"
     ]
    }
   ],
   "source": [
    "X_test2 = [[36, 294,   1,   1]]\n",
    "\n",
    "preds = xg_reg.predict(X_test2)\n",
    "\n",
    "print(preds)"
   ]
  },
  {
   "cell_type": "code",
   "execution_count": null,
   "id": "db76f3b6",
   "metadata": {},
   "outputs": [],
   "source": []
  }
 ],
 "metadata": {
  "kernelspec": {
   "display_name": "Python 3 (ipykernel)",
   "language": "python",
   "name": "python3"
  },
  "language_info": {
   "codemirror_mode": {
    "name": "ipython",
    "version": 3
   },
   "file_extension": ".py",
   "mimetype": "text/x-python",
   "name": "python",
   "nbconvert_exporter": "python",
   "pygments_lexer": "ipython3",
   "version": "3.11.3"
  }
 },
 "nbformat": 4,
 "nbformat_minor": 5
}
