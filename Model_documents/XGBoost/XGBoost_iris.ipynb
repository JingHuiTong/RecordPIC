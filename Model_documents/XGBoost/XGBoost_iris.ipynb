{
 "cells": [
  {
   "cell_type": "code",
   "execution_count": null,
   "id": "3a0bd94f-2b0f-489f-899f-167db42ad91d",
   "metadata": {
    "tags": []
   },
   "outputs": [],
   "source": [
    "# !conda install -c conda-forge py-xgboost"
   ]
  },
  {
   "cell_type": "code",
   "execution_count": 1,
   "id": "46ab2c42-22d0-4e58-bf06-d76e7b64fb12",
   "metadata": {},
   "outputs": [],
   "source": [
    "from xgboost import XGBClassifier\n",
    "from xgboost import plot_importance\n",
    "from sklearn.datasets import load_iris\n",
    "from sklearn.model_selection import train_test_split\n",
    "from sklearn.metrics import mean_squared_error\n",
    "from sklearn.metrics import accuracy_score\n",
    "from sklearn.model_selection import GridSearchCV\n",
    "from sklearn.pipeline import Pipeline\n",
    "import matplotlib.pyplot as plt\n",
    "import numpy as np"
   ]
  },
  {
   "cell_type": "code",
   "execution_count": 2,
   "id": "7e245a25-8411-4c63-8fa4-bf9b25d6cef1",
   "metadata": {},
   "outputs": [],
   "source": [
    "data = load_iris()\n",
    "\n",
    "x_train, x_test, y_train, y_test = train_test_split(data['data'], data['target'], test_size=.6)"
   ]
  },
  {
   "cell_type": "code",
   "execution_count": 273,
   "id": "f39980d8-39e2-4c26-886f-906c0aaa59fc",
   "metadata": {},
   "outputs": [],
   "source": [
    "# create model instance\n",
    "# the setting of parameters refers the model documents\n",
    "\n",
    "bst = XGBClassifier(booster=\"gbtree\",\n",
    "                    eta=0.1,\n",
    "                    min_child_weight=0.5, \n",
    "                    max_depth=5,  \n",
    "                    gamma=0, \n",
    "                    colsample_bytree=0,\n",
    "                    objective= 'reg:squarederror',  \n",
    "                    n_estimators=4,               # num. of trees\n",
    "                    eval_metric='auc',\n",
    "                    tree_method='approx')         # method: exact/approx \n",
    "\n"
   ]
  },
  {
   "cell_type": "code",
   "execution_count": 274,
   "id": "1cad9bac-94bb-4fc0-9c32-cb0cd6d9615b",
   "metadata": {},
   "outputs": [
    {
     "data": {
      "text/html": [
       "<style>#sk-container-id-40 {color: black;background-color: white;}#sk-container-id-40 pre{padding: 0;}#sk-container-id-40 div.sk-toggleable {background-color: white;}#sk-container-id-40 label.sk-toggleable__label {cursor: pointer;display: block;width: 100%;margin-bottom: 0;padding: 0.3em;box-sizing: border-box;text-align: center;}#sk-container-id-40 label.sk-toggleable__label-arrow:before {content: \"▸\";float: left;margin-right: 0.25em;color: #696969;}#sk-container-id-40 label.sk-toggleable__label-arrow:hover:before {color: black;}#sk-container-id-40 div.sk-estimator:hover label.sk-toggleable__label-arrow:before {color: black;}#sk-container-id-40 div.sk-toggleable__content {max-height: 0;max-width: 0;overflow: hidden;text-align: left;background-color: #f0f8ff;}#sk-container-id-40 div.sk-toggleable__content pre {margin: 0.2em;color: black;border-radius: 0.25em;background-color: #f0f8ff;}#sk-container-id-40 input.sk-toggleable__control:checked~div.sk-toggleable__content {max-height: 200px;max-width: 100%;overflow: auto;}#sk-container-id-40 input.sk-toggleable__control:checked~label.sk-toggleable__label-arrow:before {content: \"▾\";}#sk-container-id-40 div.sk-estimator input.sk-toggleable__control:checked~label.sk-toggleable__label {background-color: #d4ebff;}#sk-container-id-40 div.sk-label input.sk-toggleable__control:checked~label.sk-toggleable__label {background-color: #d4ebff;}#sk-container-id-40 input.sk-hidden--visually {border: 0;clip: rect(1px 1px 1px 1px);clip: rect(1px, 1px, 1px, 1px);height: 1px;margin: -1px;overflow: hidden;padding: 0;position: absolute;width: 1px;}#sk-container-id-40 div.sk-estimator {font-family: monospace;background-color: #f0f8ff;border: 1px dotted black;border-radius: 0.25em;box-sizing: border-box;margin-bottom: 0.5em;}#sk-container-id-40 div.sk-estimator:hover {background-color: #d4ebff;}#sk-container-id-40 div.sk-parallel-item::after {content: \"\";width: 100%;border-bottom: 1px solid gray;flex-grow: 1;}#sk-container-id-40 div.sk-label:hover label.sk-toggleable__label {background-color: #d4ebff;}#sk-container-id-40 div.sk-serial::before {content: \"\";position: absolute;border-left: 1px solid gray;box-sizing: border-box;top: 0;bottom: 0;left: 50%;z-index: 0;}#sk-container-id-40 div.sk-serial {display: flex;flex-direction: column;align-items: center;background-color: white;padding-right: 0.2em;padding-left: 0.2em;position: relative;}#sk-container-id-40 div.sk-item {position: relative;z-index: 1;}#sk-container-id-40 div.sk-parallel {display: flex;align-items: stretch;justify-content: center;background-color: white;position: relative;}#sk-container-id-40 div.sk-item::before, #sk-container-id-40 div.sk-parallel-item::before {content: \"\";position: absolute;border-left: 1px solid gray;box-sizing: border-box;top: 0;bottom: 0;left: 50%;z-index: -1;}#sk-container-id-40 div.sk-parallel-item {display: flex;flex-direction: column;z-index: 1;position: relative;background-color: white;}#sk-container-id-40 div.sk-parallel-item:first-child::after {align-self: flex-end;width: 50%;}#sk-container-id-40 div.sk-parallel-item:last-child::after {align-self: flex-start;width: 50%;}#sk-container-id-40 div.sk-parallel-item:only-child::after {width: 0;}#sk-container-id-40 div.sk-dashed-wrapped {border: 1px dashed gray;margin: 0 0.4em 0.5em 0.4em;box-sizing: border-box;padding-bottom: 0.4em;background-color: white;}#sk-container-id-40 div.sk-label label {font-family: monospace;font-weight: bold;display: inline-block;line-height: 1.2em;}#sk-container-id-40 div.sk-label-container {text-align: center;}#sk-container-id-40 div.sk-container {/* jupyter's `normalize.less` sets `[hidden] { display: none; }` but bootstrap.min.css set `[hidden] { display: none !important; }` so we also need the `!important` here to be able to override the default hidden behavior on the sphinx rendered scikit-learn.org. See: https://github.com/scikit-learn/scikit-learn/issues/21755 */display: inline-block !important;position: relative;}#sk-container-id-40 div.sk-text-repr-fallback {display: none;}</style><div id=\"sk-container-id-40\" class=\"sk-top-container\"><div class=\"sk-text-repr-fallback\"><pre>XGBClassifier(base_score=None, booster=&#x27;gbtree&#x27;, callbacks=None,\n",
       "              colsample_bylevel=None, colsample_bynode=None, colsample_bytree=0,\n",
       "              early_stopping_rounds=None, enable_categorical=False, eta=0.1,\n",
       "              eval_metric=&#x27;auc&#x27;, feature_types=None, gamma=0, gpu_id=None,\n",
       "              grow_policy=None, importance_type=None,\n",
       "              interaction_constraints=None, learning_rate=None, max_bin=None,\n",
       "              max_cat_threshold=None, max_cat_to_onehot=None,\n",
       "              max_delta_step=None, max_depth=5, max_leaves=None,\n",
       "              min_child_weight=0.5, missing=nan, monotone_constraints=None,\n",
       "              n_estimators=4, n_jobs=None, num_parallel_tree=None,\n",
       "              objective=&#x27;multi:softprob&#x27;, ...)</pre><b>In a Jupyter environment, please rerun this cell to show the HTML representation or trust the notebook. <br />On GitHub, the HTML representation is unable to render, please try loading this page with nbviewer.org.</b></div><div class=\"sk-container\" hidden><div class=\"sk-item\"><div class=\"sk-estimator sk-toggleable\"><input class=\"sk-toggleable__control sk-hidden--visually\" id=\"sk-estimator-id-40\" type=\"checkbox\" checked><label for=\"sk-estimator-id-40\" class=\"sk-toggleable__label sk-toggleable__label-arrow\">XGBClassifier</label><div class=\"sk-toggleable__content\"><pre>XGBClassifier(base_score=None, booster=&#x27;gbtree&#x27;, callbacks=None,\n",
       "              colsample_bylevel=None, colsample_bynode=None, colsample_bytree=0,\n",
       "              early_stopping_rounds=None, enable_categorical=False, eta=0.1,\n",
       "              eval_metric=&#x27;auc&#x27;, feature_types=None, gamma=0, gpu_id=None,\n",
       "              grow_policy=None, importance_type=None,\n",
       "              interaction_constraints=None, learning_rate=None, max_bin=None,\n",
       "              max_cat_threshold=None, max_cat_to_onehot=None,\n",
       "              max_delta_step=None, max_depth=5, max_leaves=None,\n",
       "              min_child_weight=0.5, missing=nan, monotone_constraints=None,\n",
       "              n_estimators=4, n_jobs=None, num_parallel_tree=None,\n",
       "              objective=&#x27;multi:softprob&#x27;, ...)</pre></div></div></div></div></div>"
      ],
      "text/plain": [
       "XGBClassifier(base_score=None, booster='gbtree', callbacks=None,\n",
       "              colsample_bylevel=None, colsample_bynode=None, colsample_bytree=0,\n",
       "              early_stopping_rounds=None, enable_categorical=False, eta=0.1,\n",
       "              eval_metric='auc', feature_types=None, gamma=0, gpu_id=None,\n",
       "              grow_policy=None, importance_type=None,\n",
       "              interaction_constraints=None, learning_rate=None, max_bin=None,\n",
       "              max_cat_threshold=None, max_cat_to_onehot=None,\n",
       "              max_delta_step=None, max_depth=5, max_leaves=None,\n",
       "              min_child_weight=0.5, missing=nan, monotone_constraints=None,\n",
       "              n_estimators=4, n_jobs=None, num_parallel_tree=None,\n",
       "              objective='multi:softprob', ...)"
      ]
     },
     "execution_count": 274,
     "metadata": {},
     "output_type": "execute_result"
    }
   ],
   "source": [
    "# fit model4\n",
    "bst.fit(x_train, y_train) #, eval_metric='rmse')"
   ]
  },
  {
   "cell_type": "code",
   "execution_count": 275,
   "id": "6ab73aab-da22-4646-93ef-fcdbdf667f8b",
   "metadata": {},
   "outputs": [
    {
     "name": "stdout",
     "output_type": "stream",
     "text": [
      "[0 1 0 1 1 0 0 2 1 1 0 1 0 1 2 0 1 0 1 0 1 2 1 2 1 1 0 1 0 2 2 2 0 2 1 2 2\n",
      " 0 1 2 2 2 0 2 0 0 0 2 1 0 0 1 1 2 0 2 2 2 1 1 2 2 1 2 0 1 1 0 1 2 0 2 0 1\n",
      " 0 0 2 0 2 0 1 2 2 1 2 0 0 2 2 2]\n"
     ]
    }
   ],
   "source": [
    "# make predictions\n",
    "y_preds = bst.predict(x_test)\n",
    "print(y_preds)"
   ]
  },
  {
   "cell_type": "code",
   "execution_count": 276,
   "id": "24b9d613-e958-466e-82a3-935d754b7175",
   "metadata": {},
   "outputs": [
    {
     "name": "stdout",
     "output_type": "stream",
     "text": [
      "Accuracy: 91.11 %\n",
      "RMSE: 30.0 %\n"
     ]
    }
   ],
   "source": [
    "# accuracy percentage \n",
    "accuracy = accuracy_score(y_test, y_preds)\n",
    "print(f\"Accuracy: {round(accuracy*100, 2)} %\")\n",
    "\n",
    "# rmse percentage \n",
    "rmse = np.sqrt(mean_squared_error(y_test, y_preds))\n",
    "print(f\"RMSE: {round(rmse, 2)*100} %\")"
   ]
  },
  {
   "cell_type": "code",
   "execution_count": 277,
   "id": "b45a260e-2dfa-42e1-8e35-a3953599a4ee",
   "metadata": {},
   "outputs": [
    {
     "name": "stdout",
     "output_type": "stream",
     "text": [
      "[0.06088187 0.02827626 0.33253503 0.57830685]\n"
     ]
    }
   ],
   "source": [
    "# each of feature_importances_ can roughly correspond to the percentage of  F score\n",
    "# e.g. feature f2: 15/(15+5+4+4) = 0.5357142857142857\n",
    "\n",
    "print(bst.feature_importances_)\n"
   ]
  },
  {
   "cell_type": "code",
   "execution_count": 278,
   "id": "037a0dec-3249-4a4c-81d1-47041f4d264e",
   "metadata": {},
   "outputs": [
    {
     "data": {
      "text/plain": [
       "Text(0.5, 1.0, 'Accuracy: 91.1 %, RMSE: 30.0 %')"
      ]
     },
     "execution_count": 278,
     "metadata": {},
     "output_type": "execute_result"
    },
    {
     "data": {
      "image/png": "[encoded data removed]",
      "text/plain": [
       "<Figure size 640x480 with 1 Axes>"
      ]
     },
     "metadata": {},
     "output_type": "display_data"
    }
   ],
   "source": [
    "# F score is larger, the feature is more important\n",
    "plot_importance(bst)\n",
    "plt.title(f\"Accuracy: {round(accuracy*100, 1)} %, RMSE: {round(rmse, 2)*100} %\", fontsize=12)"
   ]
  },
  {
   "cell_type": "code",
   "execution_count": 279,
   "id": "d963f181-d0fd-4ef0-abad-a4e9280bdceb",
   "metadata": {},
   "outputs": [],
   "source": [
    "## save model\n",
    "# bst.save_model('xgboost_iris.model')\n",
    "\n",
    "## load model\n",
    "# load_bst = xgb.Booster({'nthread':4}) #initial model \n",
    "# load_bst.load_model('xgboost_iris.model') "
   ]
  },
  {
   "cell_type": "markdown",
   "id": "0e87d757-6c1a-42a5-b23b-9ce4d60a6cbe",
   "metadata": {},
   "source": [
    "##### Main reference: https://www.cnblogs.com/wj-1314/p/9402324.html"
   ]
  },
  {
   "cell_type": "markdown",
   "id": "2c687a78-f435-44de-be96-1564667029e3",
   "metadata": {},
   "source": [
    "### changing parameter: tree_method = 'exact'"
   ]
  },
  {
   "cell_type": "code",
   "execution_count": 6,
   "id": "46bef15f-9afa-4d83-9cd5-24545ddb8f69",
   "metadata": {},
   "outputs": [
    {
     "name": "stdout",
     "output_type": "stream",
     "text": [
      "Accuracy: 94.44 %\n",
      "RMSE: 24.0 %\n"
     ]
    },
    {
     "data": {
      "text/plain": [
       "Text(0.5, 1.0, 'Accuracy: 94.4 %, RMSE: 24.0 %')"
      ]
     },
     "execution_count": 6,
     "metadata": {},
     "output_type": "execute_result"
    },
    {
     "data": {
      "image/png": "[encoded data removed]",
      "text/plain": [
       "<Figure size 640x480 with 1 Axes>"
      ]
     },
     "metadata": {},
     "output_type": "display_data"
    }
   ],
   "source": [
    "# create model instance\n",
    "# the setting of parameters refers the model documents\n",
    "\n",
    "bst = XGBClassifier(booster=\"gbtree\",\n",
    "                    eta=0.1,\n",
    "                    min_child_weight=0.5, \n",
    "                    max_depth=5,  \n",
    "                    gamma=0, \n",
    "                    colsample_bytree=0,\n",
    "                    objective= 'reg:squarederror',  \n",
    "                    n_estimators=4,               # num. of trees\n",
    "                    eval_metric='auc',\n",
    "                    tree_method='exact')         # method: exact/approx \n",
    "\n",
    "# fit model\n",
    "bst.fit(x_train, y_train) #, eval_metric='rmse')\n",
    "# make predictions\n",
    "y_preds = bst.predict(x_test)\n",
    "# accuracy percentage \n",
    "accuracy = accuracy_score(y_test, y_preds)\n",
    "print(f\"Accuracy: {round(accuracy*100, 2)} %\")\n",
    "\n",
    "# rmse percentage \n",
    "rmse = np.sqrt(mean_squared_error(y_test, y_preds))\n",
    "print(f\"RMSE: {round(rmse, 2)*100} %\")\n",
    "\n",
    "# F score is larger, the feature is more important\n",
    "plot_importance(bst)\n",
    "plt.title(f\"Accuracy: {round(accuracy*100, 1)} %, RMSE: {round(rmse, 2)*100} %\", fontsize=12)"
   ]
  },
  {
   "cell_type": "code",
   "execution_count": null,
   "id": "71fdb372-5cf2-43ad-8c78-0452beea9581",
   "metadata": {},
   "outputs": [],
   "source": []
  }
 ],
 "metadata": {
  "kernelspec": {
   "display_name": "Python 3 (ipykernel)",
   "language": "python",
   "name": "python3"
  },
  "language_info": {
   "codemirror_mode": {
    "name": "ipython",
    "version": 3
   },
   "file_extension": ".py",
   "mimetype": "text/x-python",
   "name": "python",
   "nbconvert_exporter": "python",
   "pygments_lexer": "ipython3",
   "version": "3.11.3"
  }
 },
 "nbformat": 4,
 "nbformat_minor": 5
}
