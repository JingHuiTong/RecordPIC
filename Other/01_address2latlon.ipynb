{
 "cells": [
  {
   "cell_type": "code",
   "execution_count": 2,
   "id": "faa7dd82-51e2-4422-97a8-99dff3d5721e",
   "metadata": {},
   "outputs": [],
   "source": [
    "import pandas as pd\n",
    "import glob\n",
    "import time\n",
    "import random\n",
    "import requests\n",
    "from bs4 import BeautifulSoup\n",
    "from fake_useragent import UserAgent"
   ]
  },
  {
   "cell_type": "code",
   "execution_count": 6,
   "id": "40df461d-057a-4ae2-adc4-e407fc5b4d0d",
   "metadata": {},
   "outputs": [],
   "source": [
    "path = '../DataBase/全台特色門市資訊.xlsx'\n",
    "df = pd.read_excel(path, names=['area','city','no','address'])#,sheet_name='store_m')\n",
    "# df_store_south = df[df['zo_no']==4501]"
   ]
  },
  {
   "cell_type": "code",
   "execution_count": 7,
   "id": "85834f6f-bdd8-43ca-b933-2007ad3ba818",
   "metadata": {},
   "outputs": [
    {
     "data": {
      "text/html": [
       "<div>\n",
       "<style scoped>\n",
       "    .dataframe tbody tr th:only-of-type {\n",
       "        vertical-align: middle;\n",
       "    }\n",
       "\n",
       "    .dataframe tbody tr th {\n",
       "        vertical-align: top;\n",
       "    }\n",
       "\n",
       "    .dataframe thead th {\n",
       "        text-align: right;\n",
       "    }\n",
       "</style>\n",
       "<table border=\"1\" class=\"dataframe\">\n",
       "  <thead>\n",
       "    <tr style=\"text-align: right;\">\n",
       "      <th></th>\n",
       "      <th>area</th>\n",
       "      <th>city</th>\n",
       "      <th>no</th>\n",
       "      <th>address</th>\n",
       "    </tr>\n",
       "  </thead>\n",
       "  <tbody>\n",
       "    <tr>\n",
       "      <th>0</th>\n",
       "      <td>北部</td>\n",
       "      <td>基隆</td>\n",
       "      <td>德復門市</td>\n",
       "      <td>基隆市中山區復興路197號</td>\n",
       "    </tr>\n",
       "    <tr>\n",
       "      <th>1</th>\n",
       "      <td>北部</td>\n",
       "      <td>台北</td>\n",
       "      <td>必成</td>\n",
       "      <td>台北市信義區基隆路一段178號1樓</td>\n",
       "    </tr>\n",
       "    <tr>\n",
       "      <th>2</th>\n",
       "      <td>北部</td>\n",
       "      <td>台北</td>\n",
       "      <td>總部</td>\n",
       "      <td>台北市信義區東興路67號1樓</td>\n",
       "    </tr>\n",
       "    <tr>\n",
       "      <th>3</th>\n",
       "      <td>北部</td>\n",
       "      <td>台北</td>\n",
       "      <td>統佳門市BEINGfit松江1號店</td>\n",
       "      <td>台北市中山區松江路237號2樓</td>\n",
       "    </tr>\n",
       "    <tr>\n",
       "      <th>4</th>\n",
       "      <td>北部</td>\n",
       "      <td>台北</td>\n",
       "      <td>動物園門市</td>\n",
       "      <td>台北市文山區新光路2段30號</td>\n",
       "    </tr>\n",
       "    <tr>\n",
       "      <th>...</th>\n",
       "      <td>...</td>\n",
       "      <td>...</td>\n",
       "      <td>...</td>\n",
       "      <td>...</td>\n",
       "    </tr>\n",
       "    <tr>\n",
       "      <th>249</th>\n",
       "      <td>東部</td>\n",
       "      <td>花蓮</td>\n",
       "      <td>南濱門市</td>\n",
       "      <td>花蓮縣吉安鄉南濱路一段116號</td>\n",
       "    </tr>\n",
       "    <tr>\n",
       "      <th>250</th>\n",
       "      <td>東部</td>\n",
       "      <td>宜蘭</td>\n",
       "      <td>泉發門市</td>\n",
       "      <td>宜蘭縣礁溪鄉礁溪路3段302號</td>\n",
       "    </tr>\n",
       "    <tr>\n",
       "      <th>251</th>\n",
       "      <td>東部</td>\n",
       "      <td>宜蘭</td>\n",
       "      <td>泉發門市</td>\n",
       "      <td>宜蘭縣礁溪鄉礁溪路3段302號306號</td>\n",
       "    </tr>\n",
       "    <tr>\n",
       "      <th>252</th>\n",
       "      <td>東部</td>\n",
       "      <td>宜蘭</td>\n",
       "      <td>親河門市</td>\n",
       "      <td>宜蘭縣五結鄉親河路2段289號</td>\n",
       "    </tr>\n",
       "    <tr>\n",
       "      <th>253</th>\n",
       "      <td>東部</td>\n",
       "      <td>宜蘭</td>\n",
       "      <td>深溝門市</td>\n",
       "      <td>宜蘭縣員山鄉惠民路207號</td>\n",
       "    </tr>\n",
       "  </tbody>\n",
       "</table>\n",
       "<p>254 rows × 4 columns</p>\n",
       "</div>"
      ],
      "text/plain": [
       "    area city                 no              address\n",
       "0     北部   基隆               德復門市        基隆市中山區復興路197號\n",
       "1     北部   台北                 必成    台北市信義區基隆路一段178號1樓\n",
       "2     北部   台北                 總部       台北市信義區東興路67號1樓\n",
       "3     北部   台北  統佳門市BEINGfit松江1號店      台北市中山區松江路237號2樓\n",
       "4     北部   台北              動物園門市       台北市文山區新光路2段30號\n",
       "..   ...  ...                ...                  ...\n",
       "249   東部   花蓮               南濱門市      花蓮縣吉安鄉南濱路一段116號\n",
       "250   東部   宜蘭               泉發門市      宜蘭縣礁溪鄉礁溪路3段302號\n",
       "251   東部   宜蘭               泉發門市  宜蘭縣礁溪鄉礁溪路3段302號306號\n",
       "252   東部   宜蘭               親河門市      宜蘭縣五結鄉親河路2段289號\n",
       "253   東部   宜蘭               深溝門市        宜蘭縣員山鄉惠民路207號\n",
       "\n",
       "[254 rows x 4 columns]"
      ]
     },
     "execution_count": 7,
     "metadata": {},
     "output_type": "execute_result"
    }
   ],
   "source": [
    "df"
   ]
  },
  {
   "cell_type": "code",
   "execution_count": 4,
   "id": "936c5400-2bf3-4051-8b48-0a23e5ba07cc",
   "metadata": {},
   "outputs": [],
   "source": [
    "def STR_to_NUM(data):\n",
    "    line = tuple(data.split(',')) #註1\n",
    "    num1 = float(line[1])\n",
    "    num2 = float(line[2])\n",
    "    line = [num1, num2]\n",
    "    return line\n",
    "def coordination(url):\n",
    "    user_agent = UserAgent()\n",
    "    response = requests.get(url, headers={ 'user-agent': user_agent.random })\n",
    "    soup = BeautifulSoup(response.text, \"html.parser\")\n",
    "    text = soup.prettify() #text 包含了html的內容\n",
    "    initial_pos = text.find(\";window.APP_INITIALIZATION_STATE\")\n",
    "    #尋找;window.APP_INITIALIZATION_STATE所在位置\n",
    "    data = text[initial_pos+36:initial_pos+85] #將其後的參數進行存取\n",
    "    num_data = STR_to_NUM(data)\n",
    "    return num_data\n",
    "    # ws.append(num_data) #將經緯度存到Excel裡"
   ]
  },
  {
   "cell_type": "code",
   "execution_count": 4,
   "id": "16bbcbde-414b-4546-8183-e7381435b9dd",
   "metadata": {},
   "outputs": [],
   "source": [
    "district_list = '旗津區|前鎮區|鹽埕區|苓雅區|前金區|小港區'"
   ]
  },
  {
   "cell_type": "code",
   "execution_count": 5,
   "id": "64bc6483-dd11-4217-a3ad-d472701dd8de",
   "metadata": {},
   "outputs": [],
   "source": [
    "df_target = df_store_south[df_store_south['address'].str.contains(district_list)]\n",
    "df_target_add = df_target['address'].tolist()"
   ]
  },
  {
   "cell_type": "code",
   "execution_count": 6,
   "id": "ab104bd2-d333-48ff-b432-801ac541c1f5",
   "metadata": {},
   "outputs": [
    {
     "data": {
      "text/plain": [
       "Index(['store_no', 'eff_date_from', 'eff_date_to', 'store_name',\n",
       "       'store_name_short', 'old_store_no', 'order_start_date',\n",
       "       'sales_start_date', 'open_date', 'close_date', 'store_attrib_no',\n",
       "       'geo_no', 'county_no', 'zo_no', 'do_no', 'fm_no', 'area_no',\n",
       "       'master_area_no', 'store_type', 'op_type', 'zip_no', 'address',\n",
       "       'op_day', 'op_time', 'store_test_flag', 'store_status', 'upd_date',\n",
       "       'upd_time'],\n",
       "      dtype='object')"
      ]
     },
     "execution_count": 6,
     "metadata": {},
     "output_type": "execute_result"
    }
   ],
   "source": [
    "df_target.keys()"
   ]
  },
  {
   "cell_type": "code",
   "execution_count": null,
   "id": "593796eb-6a3e-485d-80c3-6abfd81cf7e0",
   "metadata": {},
   "outputs": [
    {
     "name": "stdout",
     "output_type": "stream",
     "text": [
      "13\n",
      "14\n",
      "15\n",
      "16\n",
      "17\n",
      "18\n",
      "19\n",
      "20\n",
      "21\n",
      "22\n",
      "23\n",
      "24\n",
      "25\n",
      "26\n",
      "27\n",
      "28\n",
      "29\n",
      "30\n",
      "31\n",
      "32\n",
      "33\n",
      "34\n",
      "35\n",
      "36\n",
      "37\n",
      "38\n",
      "39\n",
      "40\n",
      "41\n",
      "42\n",
      "43\n",
      "44\n",
      "45\n",
      "46\n",
      "47\n",
      "48\n",
      "49\n",
      "50\n",
      "51\n",
      "52\n",
      "53\n",
      "54\n",
      "55\n",
      "56\n",
      "57\n",
      "58\n",
      "59\n",
      "60\n",
      "61\n",
      "62\n",
      "63\n",
      "64\n"
     ]
    }
   ],
   "source": [
    "df_temp__ = {'longtitude':[],\n",
    "          'latitude':[]}\n",
    "for i, address in enumerate(df['address'].tolist()):\n",
    "    if i >=13:\n",
    "        print(i)\n",
    "        URL = f\"https://www.google.com/maps/place?q={address}\" \n",
    "        time.sleep(random.randint(100,300))\n",
    "        lon, lat = coordination(URL)\n",
    "        df_temp__['longtitude'].append(lon)\n",
    "        df_temp__['latitude'].append(lat)\n",
    "    "
   ]
  },
  {
   "cell_type": "code",
   "execution_count": 12,
   "id": "92737cbe-3520-4405-90c7-697b8e47d0c4",
   "metadata": {},
   "outputs": [],
   "source": [
    "qqq=pd.DataFrame(df_temp__)"
   ]
  },
  {
   "cell_type": "code",
   "execution_count": 13,
   "id": "fd675cd1-4175-41f5-936c-9b0cc602d5f1",
   "metadata": {},
   "outputs": [],
   "source": [
    "qqq.to_csv('qqq.csv')"
   ]
  },
  {
   "cell_type": "code",
   "execution_count": 19,
   "id": "104e3d74-076d-4bde-997c-d56a72620785",
   "metadata": {},
   "outputs": [
    {
     "data": {
      "text/html": [
       "<div>\n",
       "<style scoped>\n",
       "    .dataframe tbody tr th:only-of-type {\n",
       "        vertical-align: middle;\n",
       "    }\n",
       "\n",
       "    .dataframe tbody tr th {\n",
       "        vertical-align: top;\n",
       "    }\n",
       "\n",
       "    .dataframe thead th {\n",
       "        text-align: right;\n",
       "    }\n",
       "</style>\n",
       "<table border=\"1\" class=\"dataframe\">\n",
       "  <thead>\n",
       "    <tr style=\"text-align: right;\">\n",
       "      <th></th>\n",
       "      <th>store_no</th>\n",
       "      <th>longtitude</th>\n",
       "      <th>latitude</th>\n",
       "    </tr>\n",
       "  </thead>\n",
       "  <tbody>\n",
       "    <tr>\n",
       "      <th>0</th>\n",
       "      <td>200505</td>\n",
       "      <td>120.345888</td>\n",
       "      <td>22.566785</td>\n",
       "    </tr>\n",
       "    <tr>\n",
       "      <th>1</th>\n",
       "      <td>200077</td>\n",
       "      <td>120.307550</td>\n",
       "      <td>22.604350</td>\n",
       "    </tr>\n",
       "    <tr>\n",
       "      <th>2</th>\n",
       "      <td>185800</td>\n",
       "      <td>120.331909</td>\n",
       "      <td>22.633197</td>\n",
       "    </tr>\n",
       "  </tbody>\n",
       "</table>\n",
       "</div>"
      ],
      "text/plain": [
       "   store_no  longtitude   latitude\n",
       "0    200505  120.345888  22.566785\n",
       "1    200077  120.307550  22.604350\n",
       "2    185800  120.331909  22.633197"
      ]
     },
     "execution_count": 19,
     "metadata": {},
     "output_type": "execute_result"
    }
   ],
   "source": [
    "aaa"
   ]
  },
  {
   "cell_type": "code",
   "execution_count": null,
   "id": "e165cb59-9d04-4e53-ac65-959631de7056",
   "metadata": {},
   "outputs": [],
   "source": []
  }
 ],
 "metadata": {
  "kernelspec": {
   "display_name": "Python 3 (ipykernel)",
   "language": "python",
   "name": "python3"
  },
  "language_info": {
   "codemirror_mode": {
    "name": "ipython",
    "version": 3
   },
   "file_extension": ".py",
   "mimetype": "text/x-python",
   "name": "python",
   "nbconvert_exporter": "python",
   "pygments_lexer": "ipython3",
   "version": "3.11.3"
  }
 },
 "nbformat": 4,
 "nbformat_minor": 5
}
